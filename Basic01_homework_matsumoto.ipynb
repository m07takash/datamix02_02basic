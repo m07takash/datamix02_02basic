{
 "cells": [
  {
   "cell_type": "markdown",
   "metadata": {},
   "source": [
    "# ベーシックステップ第1回課題\n",
    "銀行のキャンペーン"
   ]
  },
  {
   "cell_type": "code",
   "execution_count": 2,
   "metadata": {},
   "outputs": [],
   "source": [
    "#ライブラリインポート\n",
    "%matplotlib inline\n",
    "import pandas as pd\n",
    "import pandas.io.sql as psql\n",
    "import numpy as np\n",
    "import matplotlib\n",
    "import matplotlib.pyplot as plt\n",
    "matplotlib.style.use('ggplot')\n",
    "import scipy as sp\n",
    "from scipy import stats\n",
    "\n",
    "import psycopg2\n",
    "from pandas import DataFrame\n",
    "from __future__ import print_function\n",
    "\n",
    "#Scikit-learnをインポート\n",
    "from sklearn.ensemble import RandomForestClassifier\n",
    "#from sklearn.grid_search import GridSearchCV\n",
    "from sklearn.cross_validation import train_test_split\n",
    "#from sklearn.metrics import accuracy_score\n",
    "#from sklearn.metrics import mean_squared_error"
   ]
  },
  {
   "cell_type": "markdown",
   "metadata": {},
   "source": [
    "# データのインポート"
   ]
  },
  {
   "cell_type": "code",
   "execution_count": 52,
   "metadata": {
    "collapsed": true
   },
   "outputs": [],
   "source": [
    "#学習データのインポート\n",
    "train_data = pd.read_csv('data/bank_marketing_train.csv')"
   ]
  },
  {
   "cell_type": "code",
   "execution_count": 53,
   "metadata": {
    "collapsed": true
   },
   "outputs": [],
   "source": [
    "#学習データを分割\n",
    "train_data1 = train_data[train_data['poutcome']!=\"success\"]\n",
    "train_data2 = train_data[train_data['poutcome']==\"success\"]"
   ]
  },
  {
   "cell_type": "code",
   "execution_count": 54,
   "metadata": {
    "collapsed": true
   },
   "outputs": [],
   "source": [
    "#実際のデータのインポート\n",
    "test_data = pd.read_csv('data/bank_marketing_test.csv')"
   ]
  },
  {
   "cell_type": "code",
   "execution_count": 55,
   "metadata": {
    "collapsed": true
   },
   "outputs": [],
   "source": [
    "#実際のデータを分割\n",
    "test_data1 = test_data[test_data['poutcome']!=\"success\"]\n",
    "test_data2 = test_data[test_data['poutcome']==\"success\"]"
   ]
  },
  {
   "cell_type": "markdown",
   "metadata": {},
   "source": [
    "# データセット1の処理"
   ]
  },
  {
   "cell_type": "code",
   "execution_count": 56,
   "metadata": {
    "collapsed": true
   },
   "outputs": [],
   "source": [
    "#【データセット1】\n",
    "#カテゴリ変数の展開\n",
    "train_data1 = pd.get_dummies(data=train_data1, columns=['job'])\n",
    "train_data1 = pd.get_dummies(data=train_data1, columns=['month'])\n",
    "train_data1 = pd.get_dummies(data=train_data1, columns=['marital'])\n",
    "train_data1 = pd.get_dummies(data=train_data1, columns=['education'])\n",
    "train_data1 = pd.get_dummies(data=train_data1, columns=['default'])\n",
    "train_data1 = pd.get_dummies(data=train_data1, columns=['housing'])\n",
    "train_data1 = pd.get_dummies(data=train_data1, columns=['loan'])\n",
    "train_data1 = pd.get_dummies(data=train_data1, columns=['contact'])"
   ]
  },
  {
   "cell_type": "code",
   "execution_count": 57,
   "metadata": {
    "collapsed": true
   },
   "outputs": [],
   "source": [
    "#ターゲット変数と説明変数の設定\n",
    "target_col = 'y'\n",
    "exclude_cols = ['day_of_week','duration','poutcome']\n",
    "feature_cols = [col for col in train_data1.columns if col not in exclude_cols]\n",
    "\n",
    "#説明変数のデータ\n",
    "y = train_data1[target_col]\n",
    "x = train_data1[feature_cols]"
   ]
  },
  {
   "cell_type": "code",
   "execution_count": 58,
   "metadata": {
    "collapsed": true
   },
   "outputs": [],
   "source": [
    "#学習データを、学習用とパラメータチューニング用に分割\n",
    "feature2_cols = [col for col in x.columns if col not in target_col]\n",
    "x = x[feature2_cols]\n",
    "\n",
    "X_train1, X_train2, Y_train1, Y_train2 = \\\n",
    "    train_test_split(x, y, test_size=0.3, random_state=1234)"
   ]
  },
  {
   "cell_type": "code",
   "execution_count": 59,
   "metadata": {},
   "outputs": [
    {
     "data": {
      "text/plain": [
       "0.96989849492474622"
      ]
     },
     "execution_count": 59,
     "metadata": {},
     "output_type": "execute_result"
    }
   ],
   "source": [
    "#ランダムフォレスト\n",
    "clf1 = RandomForestClassifier(n_estimators = 400, max_depth = 50, class_weight = \"balanced\", max_leaf_nodes = 1000)\n",
    "clf1.fit(X_train1, Y_train1)\n",
    "clf1.score(X_train1, Y_train1)"
   ]
  },
  {
   "cell_type": "code",
   "execution_count": 60,
   "metadata": {
    "collapsed": true
   },
   "outputs": [],
   "source": [
    "#モデルに伴う生存率の予測値\n",
    "Y_pred2 = clf1.predict(X_train2)"
   ]
  },
  {
   "cell_type": "code",
   "execution_count": 68,
   "metadata": {},
   "outputs": [
    {
     "name": "stdout",
     "output_type": "stream",
     "text": [
      "[  1.67474992e-01   9.85156538e-02   2.30783656e-04   1.42185137e-02\n",
      "   2.73564705e-02   3.64603950e-02   1.85650669e-02   1.51091324e-01\n",
      "   2.48091622e-02   2.02269388e-02   1.89696133e-02   9.33432567e-03\n",
      "   5.95623142e-03   1.15831545e-02   7.78989277e-03   8.84879428e-03\n",
      "   1.48088628e-02   3.91230393e-03   1.65195737e-02   5.25955136e-03\n",
      "   2.21909855e-03   3.41709770e-03   2.76915162e-03   5.02193419e-05\n",
      "   3.24729643e-03   4.32160022e-03   3.14070626e-03   1.02864389e-02\n",
      "   1.74664503e-03   6.49220588e-03   1.45395844e-02   2.04148524e-02\n",
      "   1.81954693e-02   1.47376253e-03   1.28007254e-02   1.06414399e-02\n",
      "   1.62125757e-02   1.98757412e-02   2.50134889e-04   1.42175188e-02\n",
      "   1.95304770e-02   7.68071762e-03   1.61978898e-02   1.62332521e-02\n",
      "   1.31453565e-06   2.23277764e-02   3.94951364e-03   2.21225452e-02\n",
      "   1.73417303e-02   3.81284501e-03   1.67876072e-02   1.21505471e-02\n",
      "   1.36199150e-02]\n"
     ]
    }
   ],
   "source": [
    "# Feature Importance\n",
    "fti = clf1.feature_importances_\n"
   ]
  },
  {
   "cell_type": "markdown",
   "metadata": {},
   "source": [
    "# 実際の予測とファイルの作成"
   ]
  },
  {
   "cell_type": "code",
   "execution_count": 61,
   "metadata": {
    "collapsed": true
   },
   "outputs": [],
   "source": [
    "test_data1_preserve = test_data1\n",
    "#test_data1_preserve.head()"
   ]
  },
  {
   "cell_type": "code",
   "execution_count": 62,
   "metadata": {
    "collapsed": true
   },
   "outputs": [],
   "source": [
    "#【データセット1】\n",
    "#カテゴリ変数の展開\n",
    "test_data1 = pd.get_dummies(data=test_data1, columns=['job'])\n",
    "test_data1 = pd.get_dummies(data=test_data1, columns=['month'])\n",
    "test_data1 = pd.get_dummies(data=test_data1, columns=['marital'])\n",
    "test_data1 = pd.get_dummies(data=test_data1, columns=['education'])\n",
    "test_data1 = pd.get_dummies(data=test_data1, columns=['default'])\n",
    "test_data1 = pd.get_dummies(data=test_data1, columns=['housing'])\n",
    "test_data1 = pd.get_dummies(data=test_data1, columns=['loan'])\n",
    "test_data1 = pd.get_dummies(data=test_data1, columns=['contact'])"
   ]
  },
  {
   "cell_type": "code",
   "execution_count": 63,
   "metadata": {
    "collapsed": true
   },
   "outputs": [],
   "source": [
    "#テストデータ1から予測\n",
    "#ターゲット変数と説明変数の設定\n",
    "exclude_cols = ['day_of_week','duration','poutcome','y']\n",
    "feature_cols = [col for col in test_data1.columns if col not in exclude_cols]\n",
    "\n",
    "#説明変数のデータ\n",
    "X_test1 = test_data1[feature_cols]\n",
    "Y_pred = clf1.predict(X_test1)"
   ]
  },
  {
   "cell_type": "code",
   "execution_count": 64,
   "metadata": {
    "collapsed": true
   },
   "outputs": [],
   "source": [
    "#output = DataFrame({'age': X_test1['age'], 'y': Y_pred})\n",
    "output = DataFrame({'age': test_data1_preserve['age'], 'job': test_data1_preserve['job'], 'marital': test_data1_preserve['marital'], 'education': test_data1_preserve['education'], 'default': test_data1_preserve['default'], 'housing': test_data1_preserve['housing'], 'loan': test_data1_preserve['loan'], 'contact': test_data1_preserve['contact'], 'month': test_data1_preserve['month'], 'day_of_week': test_data1_preserve['day_of_week'], 'duration': test_data1_preserve['duration'], 'campaign': test_data1_preserve['campaign'], 'pdays': test_data1_preserve['pdays'], 'previous': test_data1_preserve['previous'], 'poutcome': test_data1_preserve['poutcome'], 'emp.var.rate': test_data1_preserve['emp.var.rate'], 'cons.price.idx': test_data1_preserve['cons.price.idx'], 'cons.conf.idx': test_data1_preserve['cons.conf.idx'], 'euribor3m': test_data1_preserve['euribor3m'], 'nr.employed': test_data1_preserve['nr.employed'],  'y': test_data1_preserve['y'],  'y_pred': Y_pred})"
   ]
  },
  {
   "cell_type": "code",
   "execution_count": 65,
   "metadata": {},
   "outputs": [
    {
     "name": "stderr",
     "output_type": "stream",
     "text": [
      "C:\\Anaconda3\\lib\\site-packages\\ipykernel_launcher.py:2: SettingWithCopyWarning: \n",
      "A value is trying to be set on a copy of a slice from a DataFrame.\n",
      "Try using .loc[row_indexer,col_indexer] = value instead\n",
      "\n",
      "See the caveats in the documentation: http://pandas.pydata.org/pandas-docs/stable/indexing.html#indexing-view-versus-copy\n",
      "  \n"
     ]
    },
    {
     "data": {
      "text/html": [
       "<div>\n",
       "<style>\n",
       "    .dataframe thead tr:only-child th {\n",
       "        text-align: right;\n",
       "    }\n",
       "\n",
       "    .dataframe thead th {\n",
       "        text-align: left;\n",
       "    }\n",
       "\n",
       "    .dataframe tbody tr th {\n",
       "        vertical-align: top;\n",
       "    }\n",
       "</style>\n",
       "<table border=\"1\" class=\"dataframe\">\n",
       "  <thead>\n",
       "    <tr style=\"text-align: right;\">\n",
       "      <th></th>\n",
       "      <th>age</th>\n",
       "      <th>job</th>\n",
       "      <th>marital</th>\n",
       "      <th>education</th>\n",
       "      <th>default</th>\n",
       "      <th>housing</th>\n",
       "      <th>loan</th>\n",
       "      <th>contact</th>\n",
       "      <th>month</th>\n",
       "      <th>day_of_week</th>\n",
       "      <th>...</th>\n",
       "      <th>pdays</th>\n",
       "      <th>previous</th>\n",
       "      <th>poutcome</th>\n",
       "      <th>emp.var.rate</th>\n",
       "      <th>cons.price.idx</th>\n",
       "      <th>cons.conf.idx</th>\n",
       "      <th>euribor3m</th>\n",
       "      <th>nr.employed</th>\n",
       "      <th>y</th>\n",
       "      <th>Y_predict</th>\n",
       "    </tr>\n",
       "  </thead>\n",
       "  <tbody>\n",
       "    <tr>\n",
       "      <th>2</th>\n",
       "      <td>40</td>\n",
       "      <td>technician</td>\n",
       "      <td>married</td>\n",
       "      <td>high.school</td>\n",
       "      <td>no</td>\n",
       "      <td>yes</td>\n",
       "      <td>no</td>\n",
       "      <td>cellular</td>\n",
       "      <td>jul</td>\n",
       "      <td>wed</td>\n",
       "      <td>...</td>\n",
       "      <td>3</td>\n",
       "      <td>1</td>\n",
       "      <td>success</td>\n",
       "      <td>-2.9</td>\n",
       "      <td>92.469</td>\n",
       "      <td>-33.6</td>\n",
       "      <td>1.029</td>\n",
       "      <td>5076.2</td>\n",
       "      <td>no</td>\n",
       "      <td>yes</td>\n",
       "    </tr>\n",
       "    <tr>\n",
       "      <th>35</th>\n",
       "      <td>54</td>\n",
       "      <td>admin.</td>\n",
       "      <td>married</td>\n",
       "      <td>university.degree</td>\n",
       "      <td>no</td>\n",
       "      <td>no</td>\n",
       "      <td>yes</td>\n",
       "      <td>cellular</td>\n",
       "      <td>jul</td>\n",
       "      <td>tue</td>\n",
       "      <td>...</td>\n",
       "      <td>13</td>\n",
       "      <td>1</td>\n",
       "      <td>success</td>\n",
       "      <td>-2.9</td>\n",
       "      <td>92.469</td>\n",
       "      <td>-33.6</td>\n",
       "      <td>0.908</td>\n",
       "      <td>5076.2</td>\n",
       "      <td>yes</td>\n",
       "      <td>yes</td>\n",
       "    </tr>\n",
       "    <tr>\n",
       "      <th>53</th>\n",
       "      <td>42</td>\n",
       "      <td>admin.</td>\n",
       "      <td>married</td>\n",
       "      <td>university.degree</td>\n",
       "      <td>no</td>\n",
       "      <td>yes</td>\n",
       "      <td>no</td>\n",
       "      <td>cellular</td>\n",
       "      <td>aug</td>\n",
       "      <td>tue</td>\n",
       "      <td>...</td>\n",
       "      <td>4</td>\n",
       "      <td>1</td>\n",
       "      <td>success</td>\n",
       "      <td>-2.9</td>\n",
       "      <td>92.201</td>\n",
       "      <td>-31.4</td>\n",
       "      <td>0.884</td>\n",
       "      <td>5076.2</td>\n",
       "      <td>yes</td>\n",
       "      <td>yes</td>\n",
       "    </tr>\n",
       "    <tr>\n",
       "      <th>56</th>\n",
       "      <td>31</td>\n",
       "      <td>admin.</td>\n",
       "      <td>single</td>\n",
       "      <td>university.degree</td>\n",
       "      <td>no</td>\n",
       "      <td>no</td>\n",
       "      <td>no</td>\n",
       "      <td>cellular</td>\n",
       "      <td>aug</td>\n",
       "      <td>tue</td>\n",
       "      <td>...</td>\n",
       "      <td>15</td>\n",
       "      <td>1</td>\n",
       "      <td>success</td>\n",
       "      <td>-2.9</td>\n",
       "      <td>92.201</td>\n",
       "      <td>-31.4</td>\n",
       "      <td>0.884</td>\n",
       "      <td>5076.2</td>\n",
       "      <td>no</td>\n",
       "      <td>yes</td>\n",
       "    </tr>\n",
       "    <tr>\n",
       "      <th>60</th>\n",
       "      <td>29</td>\n",
       "      <td>student</td>\n",
       "      <td>single</td>\n",
       "      <td>high.school</td>\n",
       "      <td>no</td>\n",
       "      <td>unknown</td>\n",
       "      <td>unknown</td>\n",
       "      <td>cellular</td>\n",
       "      <td>aug</td>\n",
       "      <td>tue</td>\n",
       "      <td>...</td>\n",
       "      <td>4</td>\n",
       "      <td>3</td>\n",
       "      <td>success</td>\n",
       "      <td>-2.9</td>\n",
       "      <td>92.201</td>\n",
       "      <td>-31.4</td>\n",
       "      <td>0.884</td>\n",
       "      <td>5076.2</td>\n",
       "      <td>yes</td>\n",
       "      <td>yes</td>\n",
       "    </tr>\n",
       "  </tbody>\n",
       "</table>\n",
       "<p>5 rows × 22 columns</p>\n",
       "</div>"
      ],
      "text/plain": [
       "    age         job  marital          education default  housing     loan  \\\n",
       "2    40  technician  married        high.school      no      yes       no   \n",
       "35   54      admin.  married  university.degree      no       no      yes   \n",
       "53   42      admin.  married  university.degree      no      yes       no   \n",
       "56   31      admin.   single  university.degree      no       no       no   \n",
       "60   29     student   single        high.school      no  unknown  unknown   \n",
       "\n",
       "     contact month day_of_week    ...      pdays  previous  poutcome  \\\n",
       "2   cellular   jul         wed    ...          3         1   success   \n",
       "35  cellular   jul         tue    ...         13         1   success   \n",
       "53  cellular   aug         tue    ...          4         1   success   \n",
       "56  cellular   aug         tue    ...         15         1   success   \n",
       "60  cellular   aug         tue    ...          4         3   success   \n",
       "\n",
       "    emp.var.rate cons.price.idx  cons.conf.idx  euribor3m  nr.employed    y  \\\n",
       "2           -2.9         92.469          -33.6      1.029       5076.2   no   \n",
       "35          -2.9         92.469          -33.6      0.908       5076.2  yes   \n",
       "53          -2.9         92.201          -31.4      0.884       5076.2  yes   \n",
       "56          -2.9         92.201          -31.4      0.884       5076.2   no   \n",
       "60          -2.9         92.201          -31.4      0.884       5076.2  yes   \n",
       "\n",
       "    Y_predict  \n",
       "2         yes  \n",
       "35        yes  \n",
       "53        yes  \n",
       "56        yes  \n",
       "60        yes  \n",
       "\n",
       "[5 rows x 22 columns]"
      ]
     },
     "execution_count": 65,
     "metadata": {},
     "output_type": "execute_result"
    }
   ],
   "source": [
    "#テストデータ2にすべてYesを設定\n",
    "test_data2['Y_predict'] = \"yes\"\n",
    "test_data2.head()"
   ]
  },
  {
   "cell_type": "code",
   "execution_count": 66,
   "metadata": {},
   "outputs": [
    {
     "data": {
      "text/html": [
       "<div>\n",
       "<style>\n",
       "    .dataframe thead tr:only-child th {\n",
       "        text-align: right;\n",
       "    }\n",
       "\n",
       "    .dataframe thead th {\n",
       "        text-align: left;\n",
       "    }\n",
       "\n",
       "    .dataframe tbody tr th {\n",
       "        vertical-align: top;\n",
       "    }\n",
       "</style>\n",
       "<table border=\"1\" class=\"dataframe\">\n",
       "  <thead>\n",
       "    <tr style=\"text-align: right;\">\n",
       "      <th></th>\n",
       "      <th>age</th>\n",
       "      <th>campaign</th>\n",
       "      <th>cons.conf.idx</th>\n",
       "      <th>cons.price.idx</th>\n",
       "      <th>contact</th>\n",
       "      <th>day_of_week</th>\n",
       "      <th>default</th>\n",
       "      <th>duration</th>\n",
       "      <th>education</th>\n",
       "      <th>emp.var.rate</th>\n",
       "      <th>...</th>\n",
       "      <th>job</th>\n",
       "      <th>loan</th>\n",
       "      <th>marital</th>\n",
       "      <th>month</th>\n",
       "      <th>nr.employed</th>\n",
       "      <th>pdays</th>\n",
       "      <th>poutcome</th>\n",
       "      <th>previous</th>\n",
       "      <th>y</th>\n",
       "      <th>y_pred</th>\n",
       "    </tr>\n",
       "  </thead>\n",
       "  <tbody>\n",
       "    <tr>\n",
       "      <th>0</th>\n",
       "      <td>32</td>\n",
       "      <td>5</td>\n",
       "      <td>-33.6</td>\n",
       "      <td>92.469</td>\n",
       "      <td>cellular</td>\n",
       "      <td>wed</td>\n",
       "      <td>no</td>\n",
       "      <td>210</td>\n",
       "      <td>university.degree</td>\n",
       "      <td>-2.9</td>\n",
       "      <td>...</td>\n",
       "      <td>admin.</td>\n",
       "      <td>no</td>\n",
       "      <td>single</td>\n",
       "      <td>jul</td>\n",
       "      <td>5076.2</td>\n",
       "      <td>999</td>\n",
       "      <td>nonexistent</td>\n",
       "      <td>0</td>\n",
       "      <td>yes</td>\n",
       "      <td>no</td>\n",
       "    </tr>\n",
       "    <tr>\n",
       "      <th>1</th>\n",
       "      <td>59</td>\n",
       "      <td>2</td>\n",
       "      <td>-33.6</td>\n",
       "      <td>92.469</td>\n",
       "      <td>cellular</td>\n",
       "      <td>wed</td>\n",
       "      <td>no</td>\n",
       "      <td>286</td>\n",
       "      <td>high.school</td>\n",
       "      <td>-2.9</td>\n",
       "      <td>...</td>\n",
       "      <td>admin.</td>\n",
       "      <td>no</td>\n",
       "      <td>married</td>\n",
       "      <td>jul</td>\n",
       "      <td>5076.2</td>\n",
       "      <td>999</td>\n",
       "      <td>nonexistent</td>\n",
       "      <td>0</td>\n",
       "      <td>no</td>\n",
       "      <td>no</td>\n",
       "    </tr>\n",
       "    <tr>\n",
       "      <th>3</th>\n",
       "      <td>26</td>\n",
       "      <td>1</td>\n",
       "      <td>-33.6</td>\n",
       "      <td>92.469</td>\n",
       "      <td>cellular</td>\n",
       "      <td>wed</td>\n",
       "      <td>no</td>\n",
       "      <td>153</td>\n",
       "      <td>university.degree</td>\n",
       "      <td>-2.9</td>\n",
       "      <td>...</td>\n",
       "      <td>admin.</td>\n",
       "      <td>no</td>\n",
       "      <td>single</td>\n",
       "      <td>jul</td>\n",
       "      <td>5076.2</td>\n",
       "      <td>999</td>\n",
       "      <td>nonexistent</td>\n",
       "      <td>0</td>\n",
       "      <td>yes</td>\n",
       "      <td>no</td>\n",
       "    </tr>\n",
       "    <tr>\n",
       "      <th>4</th>\n",
       "      <td>36</td>\n",
       "      <td>3</td>\n",
       "      <td>-33.6</td>\n",
       "      <td>92.469</td>\n",
       "      <td>cellular</td>\n",
       "      <td>wed</td>\n",
       "      <td>no</td>\n",
       "      <td>182</td>\n",
       "      <td>professional.course</td>\n",
       "      <td>-2.9</td>\n",
       "      <td>...</td>\n",
       "      <td>technician</td>\n",
       "      <td>no</td>\n",
       "      <td>married</td>\n",
       "      <td>jul</td>\n",
       "      <td>5076.2</td>\n",
       "      <td>999</td>\n",
       "      <td>nonexistent</td>\n",
       "      <td>0</td>\n",
       "      <td>no</td>\n",
       "      <td>no</td>\n",
       "    </tr>\n",
       "    <tr>\n",
       "      <th>5</th>\n",
       "      <td>32</td>\n",
       "      <td>3</td>\n",
       "      <td>-33.6</td>\n",
       "      <td>92.469</td>\n",
       "      <td>cellular</td>\n",
       "      <td>wed</td>\n",
       "      <td>no</td>\n",
       "      <td>97</td>\n",
       "      <td>university.degree</td>\n",
       "      <td>-2.9</td>\n",
       "      <td>...</td>\n",
       "      <td>admin.</td>\n",
       "      <td>no</td>\n",
       "      <td>single</td>\n",
       "      <td>jul</td>\n",
       "      <td>5076.2</td>\n",
       "      <td>999</td>\n",
       "      <td>nonexistent</td>\n",
       "      <td>0</td>\n",
       "      <td>yes</td>\n",
       "      <td>no</td>\n",
       "    </tr>\n",
       "  </tbody>\n",
       "</table>\n",
       "<p>5 rows × 22 columns</p>\n",
       "</div>"
      ],
      "text/plain": [
       "   age  campaign  cons.conf.idx  cons.price.idx   contact day_of_week default  \\\n",
       "0   32         5          -33.6          92.469  cellular         wed      no   \n",
       "1   59         2          -33.6          92.469  cellular         wed      no   \n",
       "3   26         1          -33.6          92.469  cellular         wed      no   \n",
       "4   36         3          -33.6          92.469  cellular         wed      no   \n",
       "5   32         3          -33.6          92.469  cellular         wed      no   \n",
       "\n",
       "   duration            education  emp.var.rate   ...           job loan  \\\n",
       "0       210    university.degree          -2.9   ...        admin.   no   \n",
       "1       286          high.school          -2.9   ...        admin.   no   \n",
       "3       153    university.degree          -2.9   ...        admin.   no   \n",
       "4       182  professional.course          -2.9   ...    technician   no   \n",
       "5        97    university.degree          -2.9   ...        admin.   no   \n",
       "\n",
       "   marital month nr.employed pdays     poutcome  previous    y  y_pred  \n",
       "0   single   jul      5076.2   999  nonexistent         0  yes      no  \n",
       "1  married   jul      5076.2   999  nonexistent         0   no      no  \n",
       "3   single   jul      5076.2   999  nonexistent         0  yes      no  \n",
       "4  married   jul      5076.2   999  nonexistent         0   no      no  \n",
       "5   single   jul      5076.2   999  nonexistent         0  yes      no  \n",
       "\n",
       "[5 rows x 22 columns]"
      ]
     },
     "execution_count": 66,
     "metadata": {},
     "output_type": "execute_result"
    }
   ],
   "source": [
    "output2 = DataFrame({'age': test_data2['age'], 'job': test_data2['job'], 'marital': test_data2['marital'], 'education': test_data2['education'], 'default': test_data2['default'], 'housing': test_data2['housing'], 'loan': test_data2['loan'], 'contact': test_data2['contact'], 'month': test_data2['month'], 'day_of_week': test_data2['day_of_week'], 'duration': test_data2['duration'], 'campaign': test_data2['campaign'], 'pdays': test_data2['pdays'], 'previous': test_data2['previous'], 'poutcome': test_data2['poutcome'], 'emp.var.rate': test_data2['emp.var.rate'], 'cons.price.idx': test_data2['cons.price.idx'], 'cons.conf.idx': test_data2['cons.conf.idx'], 'euribor3m': test_data2['euribor3m'], 'nr.employed': test_data2['nr.employed'],  'y': test_data2['y'], 'y_pred': test_data2['Y_predict']})\n",
    "output = output.append(output2)\n",
    "output.head()"
   ]
  },
  {
   "cell_type": "code",
   "execution_count": 67,
   "metadata": {
    "collapsed": true
   },
   "outputs": [],
   "source": [
    "#データの書き出し\n",
    "outfile = DataFrame({'age': output['age'], 'job': output['job'], 'marital': output['marital'], 'education': output['education'], 'default': output['default'], 'housing': output['housing'], 'loan': output['loan'], 'contact': output['contact'], 'month': output['month'], 'day_of_week': output['day_of_week'], 'duration': output['duration'], 'campaign': output['campaign'], 'pdays': output['pdays'], 'previous': output['previous'], 'poutcome': output['poutcome'], 'emp.var.rate': output['emp.var.rate'], 'cons.price.idx': output['cons.price.idx'], 'cons.conf.idx': output['cons.conf.idx'], 'euribor3m': output['euribor3m'], 'nr.employed': output['nr.employed'],  'y': output['y'],  'y_pred': output['y_pred']})\n",
    "outfile.to_csv(\"output.csv\", index=False)"
   ]
  }
 ],
 "metadata": {
  "kernelspec": {
   "display_name": "Python 3",
   "language": "python",
   "name": "python3"
  },
  "language_info": {
   "codemirror_mode": {
    "name": "ipython",
    "version": 3
   },
   "file_extension": ".py",
   "mimetype": "text/x-python",
   "name": "python",
   "nbconvert_exporter": "python",
   "pygments_lexer": "ipython3",
   "version": "3.6.1"
  }
 },
 "nbformat": 4,
 "nbformat_minor": 2
}
